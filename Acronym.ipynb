{
 "cells": [
  {
   "cell_type": "markdown",
   "id": "2a3989e9",
   "metadata": {},
   "source": [
    "<h3>Acronyms using Python<h3>"
   ]
  },
  {
   "cell_type": "markdown",
   "id": "5b1d8a35",
   "metadata": {},
   "source": [
    "Here we are converting a phrase into it's Acronym."
   ]
  },
  {
   "cell_type": "code",
   "execution_count": 2,
   "id": "79799305",
   "metadata": {
    "scrolled": true
   },
   "outputs": [
    {
     "name": "stdin",
     "output_type": "stream",
     "text": [
      "Enter a Phrase:  Data Science\n"
     ]
    },
    {
     "name": "stdout",
     "output_type": "stream",
     "text": [
      " DS\n"
     ]
    }
   ],
   "source": [
    "user_input = input(\"Enter a Phrase: \")\n",
    "name = user_input.split()\n",
    "acr = \" \"\n",
    "for i in name:\n",
    "    acr = acr+i[0].upper()\n",
    "print(acr)"
   ]
  }
 ],
 "metadata": {
  "kernelspec": {
   "display_name": "Python 3 (ipykernel)",
   "language": "python",
   "name": "python3"
  },
  "language_info": {
   "codemirror_mode": {
    "name": "ipython",
    "version": 3
   },
   "file_extension": ".py",
   "mimetype": "text/x-python",
   "name": "python",
   "nbconvert_exporter": "python",
   "pygments_lexer": "ipython3",
   "version": "3.9.7"
  }
 },
 "nbformat": 4,
 "nbformat_minor": 5
}
