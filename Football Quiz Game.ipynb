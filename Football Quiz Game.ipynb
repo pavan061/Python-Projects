{
 "cells": [
  {
   "cell_type": "markdown",
   "id": "f5d1b6ec",
   "metadata": {},
   "source": [
    "<h1><p style=\"text-align:center\">Football Quiz Game</p></h1>"
   ]
  },
  {
   "cell_type": "markdown",
   "id": "7b80aa26",
   "metadata": {},
   "source": [
    "<h3>The Quiz game asks the player questions about football. They have three chances to answer each question you don’t want to take the quiz too difficult. Each correct answer will score a point. At the end of the game, the program will reveal the player’s final score.</h3>"
   ]
  },
  {
   "cell_type": "code",
   "execution_count": 2,
   "id": "8c14b05c",
   "metadata": {},
   "outputs": [
    {
     "name": "stdout",
     "output_type": "stream",
     "text": [
      "Who scored more goals in a single season? ronaldo\n",
      "Wrong answer Keep Trying...ronaldo\n",
      "Wrong answer Keep Trying...ronaldo\n",
      "You have used all your chances :( \n",
      "The correcr answer is  messi\n",
      "who won the world cups in football history? spain\n",
      "Wrong answer Keep Trying...germany\n",
      "Wrong answer Keep Trying...brazi;\n",
      "You have used all your chances :( \n",
      "The correcr answer is  Brazil\n",
      "Who won the most Ballon d'Or in the football history? messi\n",
      "Correct Answer\n",
      "Your total score is :1\n"
     ]
    }
   ],
   "source": [
    "def guess_game(guess, answer):\n",
    "    global score\n",
    "    still_guessing = True\n",
    "    attempt = 0\n",
    "    while still_guessing and attempt < 3:\n",
    "        if guess.lower() == answer.lower():\n",
    "            score += 1\n",
    "            print(\"Correct Answer\")\n",
    "            still_guessing = False\n",
    "        else:\n",
    "            if attempt < 2:\n",
    "                guess = input(\"Wrong answer Keep Trying...\")\n",
    "            attempt += 1\n",
    "    if attempt == 3:\n",
    "            print(\"You have used all your chances :( \")\n",
    "            print(\"The correct answer is \", answer)\n",
    "            #break\n",
    "            #still_guessing = False\n",
    "\n",
    "\n",
    "score = 0\n",
    "question_1  = input(\"Who scored more goals in a single season? \")\n",
    "guess_game(question_1, \"messi\")\n",
    "question_2 = input(\"who won the world cups in football history? \")\n",
    "guess_game(question_2, \"Brazil\")\n",
    "question_3 = input(\"Who won the most Ballon d'Or in the football history? \")\n",
    "guess_game(question_3,\"messi\")\n",
    "print(f\"Your total score is :{score}\")\n",
    "\n"
   ]
  }
 ],
 "metadata": {
  "kernelspec": {
   "display_name": "Python 3 (ipykernel)",
   "language": "python",
   "name": "python3"
  },
  "language_info": {
   "codemirror_mode": {
    "name": "ipython",
    "version": 3
   },
   "file_extension": ".py",
   "mimetype": "text/x-python",
   "name": "python",
   "nbconvert_exporter": "python",
   "pygments_lexer": "ipython3",
   "version": "3.9.7"
  }
 },
 "nbformat": 4,
 "nbformat_minor": 5
}
