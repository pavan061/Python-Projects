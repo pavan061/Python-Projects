{
 "cells": [
  {
   "cell_type": "markdown",
   "id": "3e8df7f6",
   "metadata": {},
   "source": [
    "<h1><p style=\"text-align:center\">QR Code Generation</p></h1>"
   ]
  },
  {
   "cell_type": "markdown",
   "id": "a7687f08",
   "metadata": {},
   "source": [
    "<h3>This code helps to generate QR code based on the url the user wants</h3>"
   ]
  },
  {
   "cell_type": "code",
   "execution_count": 1,
   "id": "452c86c7",
   "metadata": {
    "collapsed": true
   },
   "outputs": [
    {
     "name": "stdout",
     "output_type": "stream",
     "text": [
      "Collecting pyqrcode\n",
      "  Downloading PyQRCode-1.2.1.zip (41 kB)\n",
      "Building wheels for collected packages: pyqrcode\n",
      "  Building wheel for pyqrcode (setup.py): started\n",
      "  Building wheel for pyqrcode (setup.py): finished with status 'done'\n",
      "  Created wheel for pyqrcode: filename=PyQRCode-1.2.1-py3-none-any.whl size=36245 sha256=5bd14354a1db76707063d11a70c8ec79d2279ebd8f30986f8b3b935bbf4220af\n",
      "  Stored in directory: c:\\users\\gudur\\appdata\\local\\pip\\cache\\wheels\\da\\75\\c0\\38c7f82750de2725429b6b8571dca254249d73f6c882c5d9b1\n",
      "Successfully built pyqrcode\n",
      "Installing collected packages: pyqrcode\n",
      "Successfully installed pyqrcode-1.2.1\n",
      "Note: you may need to restart the kernel to use updated packages.\n"
     ]
    }
   ],
   "source": [
    "pip install pyqrcode"
   ]
  },
  {
   "cell_type": "code",
   "execution_count": 9,
   "id": "2af6783d",
   "metadata": {},
   "outputs": [],
   "source": [
    "import pyqrcode\n",
    "from pyqrcode import QRCode\n",
    "#just replace a website url of your choice in to the website_url variable\n",
    "website_url = \"https://towardsdatascience.com/data-science/home\"\n",
    "QR = pyqrcode.create(website_url)\n",
    "QR.svg(\"myqyrcode.svg\", scale = 8)"
   ]
  }
 ],
 "metadata": {
  "kernelspec": {
   "display_name": "Python 3 (ipykernel)",
   "language": "python",
   "name": "python3"
  },
  "language_info": {
   "codemirror_mode": {
    "name": "ipython",
    "version": 3
   },
   "file_extension": ".py",
   "mimetype": "text/x-python",
   "name": "python",
   "nbconvert_exporter": "python",
   "pygments_lexer": "ipython3",
   "version": "3.9.7"
  }
 },
 "nbformat": 4,
 "nbformat_minor": 5
}
