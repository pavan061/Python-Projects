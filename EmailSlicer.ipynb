{
 "cells": [
  {
   "cell_type": "markdown",
   "id": "5c2acf68",
   "metadata": {},
   "source": [
    "<h3>Email slicer with user name and domain</h3>"
   ]
  },
  {
   "cell_type": "markdown",
   "id": "faba4c9a",
   "metadata": {},
   "source": [
    "<h4>This code helps in finding the name of the user and the domain mail address the user is using.</h4>"
   ]
  },
  {
   "cell_type": "code",
   "execution_count": 18,
   "id": "7590d5a6",
   "metadata": {},
   "outputs": [
    {
     "name": "stdout",
     "output_type": "stream",
     "text": [
      "Please enter your mail address: venkatasaipavan@gmail.com\n",
      "The user name is venkatasaipavan and the domain is gmail.com\n"
     ]
    }
   ],
   "source": [
    "user_input = input(\"Please enter your mail address: \")\n",
    "user_domain = user_input.split('@')\n",
    "user,domain = user_domain\n",
    "#for user in user_domain:\n",
    "print(\"The user name is {} and the domain is {}\".format(user,domain))"
   ]
  },
  {
   "cell_type": "markdown",
   "id": "fe988861",
   "metadata": {},
   "source": [
    "#Alternate method"
   ]
  },
  {
   "cell_type": "code",
   "execution_count": 20,
   "id": "aefa4834",
   "metadata": {},
   "outputs": [
    {
     "name": "stdout",
     "output_type": "stream",
     "text": [
      "Please enter your mail address: venkatasaipavan@gmail.com\n",
      "The user name is venkatasaipavan and the domain is gmail.com\n"
     ]
    }
   ],
   "source": [
    "user_input = input(\"Please enter your mail address: \").strip()\n",
    "name = user_input[:user_input.index(\"@\")]\n",
    "domain = user_input[user_input.index(\"@\")+1:]\n",
    "print(\"The user name is {} and the domain is {}\".format(name,domain))"
   ]
  }
 ],
 "metadata": {
  "kernelspec": {
   "display_name": "Python 3 (ipykernel)",
   "language": "python",
   "name": "python3"
  },
  "language_info": {
   "codemirror_mode": {
    "name": "ipython",
    "version": 3
   },
   "file_extension": ".py",
   "mimetype": "text/x-python",
   "name": "python",
   "nbconvert_exporter": "python",
   "pygments_lexer": "ipython3",
   "version": "3.9.7"
  }
 },
 "nbformat": 4,
 "nbformat_minor": 5
}
