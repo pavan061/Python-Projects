{
 "cells": [
  {
   "cell_type": "markdown",
   "id": "0ce47548-4ed4-458b-9a8e-48d415ee4e86",
   "metadata": {},
   "source": [
    "<h1><p style=\"text-align:center\">Spelling Correction with Python</p></h1>"
   ]
  },
  {
   "cell_type": "markdown",
   "id": "b49b11d4-4629-475a-bf9e-e4c14ef9011d",
   "metadata": {
    "tags": []
   },
   "source": [
    "<h3>This code returns the misspelled words according to the dictionary</h3>"
   ]
  },
  {
   "cell_type": "code",
   "execution_count": 16,
   "id": "c1325008-4e1a-4d1a-bb01-2313c7cc5fe3",
   "metadata": {},
   "outputs": [
    {
     "name": "stdout",
     "output_type": "stream",
     "text": [
      "wrong words are: ['Data Scence', 'Mahine Learnin']\n",
      "The corrected words according to the dictionary is  Data Science\n",
      "The corrected words according to the dictionary is  Machine Learning\n"
     ]
    }
   ],
   "source": [
    "from textblob import TextBlob\n",
    "words = [\"Data Scence\", \"Mahine Learnin\"]\n",
    "corrected_words = []\n",
    "for word in words:\n",
    "    corrected_words.append(TextBlob(word))\n",
    "print(f\"wrong words are: {words}\")\n",
    "for i in corrected_words:\n",
    "    print(f\"The corrected words according to the dictionary is  {i.correct()}\")"
   ]
  }
 ],
 "metadata": {
  "kernelspec": {
   "display_name": "Python 3 (ipykernel)",
   "language": "python",
   "name": "python3"
  },
  "language_info": {
   "codemirror_mode": {
    "name": "ipython",
    "version": 3
   },
   "file_extension": ".py",
   "mimetype": "text/x-python",
   "name": "python",
   "nbconvert_exporter": "python",
   "pygments_lexer": "ipython3",
   "version": "3.9.7"
  }
 },
 "nbformat": 4,
 "nbformat_minor": 5
}
