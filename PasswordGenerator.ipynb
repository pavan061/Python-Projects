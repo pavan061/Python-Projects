{
 "cells": [
  {
   "cell_type": "markdown",
   "id": "bf87ea65",
   "metadata": {},
   "source": [
    "<h3> Random Password Generator</h3>"
   ]
  },
  {
   "cell_type": "markdown",
   "id": "6ba89e66",
   "metadata": {},
   "source": [
    "The user enter a length of passoword of his/her desire and the code generates a random password depending on the length"
   ]
  },
  {
   "cell_type": "code",
   "execution_count": 2,
   "id": "69acfd0c",
   "metadata": {},
   "outputs": [
    {
     "name": "stdout",
     "output_type": "stream",
     "text": [
      "Enter the length of the passoword: 25\n",
      "nRv9gYbeayNWdqpxzUHL#Cc4X\n"
     ]
    }
   ],
   "source": [
    "import random\n",
    "password_length = int(input(\"Enter the length of the passoword: \"))\n",
    "pas = \"abcdefghijklmnopqrstuvwxyzABCDEFGHIJKLMNOPQRSTUVWXYZ0123456789$*@!&#\"\n",
    "password = \"\".join(random.sample(pas, password_length))\n",
    "print(password)"
   ]
  }
 ],
 "metadata": {
  "kernelspec": {
   "display_name": "Python 3 (ipykernel)",
   "language": "python",
   "name": "python3"
  },
  "language_info": {
   "codemirror_mode": {
    "name": "ipython",
    "version": 3
   },
   "file_extension": ".py",
   "mimetype": "text/x-python",
   "name": "python",
   "nbconvert_exporter": "python",
   "pygments_lexer": "ipython3",
   "version": "3.9.7"
  }
 },
 "nbformat": 4,
 "nbformat_minor": 5
}
