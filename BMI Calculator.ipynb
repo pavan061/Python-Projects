{
 "cells": [
  {
   "cell_type": "markdown",
   "id": "6587f889-d87d-4b7b-b14e-8f33e282c40e",
   "metadata": {},
   "source": [
    "<h1><p style=\"text-align:center\">BMI calculator</p></h1>"
   ]
  },
  {
   "cell_type": "markdown",
   "id": "e86c6921-e0bf-4372-a002-8e8336b919b5",
   "metadata": {},
   "source": [
    "<h2>This code helps in finding the BMI of a person</h2>"
   ]
  },
  {
   "cell_type": "code",
   "execution_count": 5,
   "id": "d297c95b-0b1a-4f63-a465-8a5dac4cb75d",
   "metadata": {},
   "outputs": [
    {
     "name": "stdin",
     "output_type": "stream",
     "text": [
      "Enter your height in centimeters:  170.688\n",
      "Enter your Weight in Kg:  73\n"
     ]
    },
    {
     "name": "stdout",
     "output_type": "stream",
     "text": [
      "your Body Mass Index is:  25.05629656950924\n",
      "you are overweight\n"
     ]
    }
   ],
   "source": [
    "Height=float(input(\"Enter your height in centimeters: \"))\n",
    "Weight=float(input(\"Enter your Weight in Kg: \"))\n",
    "Height = Height/100\n",
    "BMI=Weight/(Height*Height)\n",
    "print(\"your Body Mass Index is: \",BMI)\n",
    "if(BMI>0):\n",
    "\tif(BMI<=16):\n",
    "\t\tprint(\"you are severely underweight\")\n",
    "\telif(BMI<=18.5):\n",
    "\t\tprint(\"you are underweight\")\n",
    "\telif(BMI<=25):\n",
    "\t\tprint(\"you are Healthy\")\n",
    "\telif(BMI<=30):\n",
    "\t\tprint(\"you are overweight\")\n",
    "\telse: print(\"you are severely overweight\")\n",
    "else:(\"enter valid details\")"
   ]
  },
  {
   "cell_type": "code",
   "execution_count": null,
   "id": "41897c95-1efa-4582-9e99-9b1244122972",
   "metadata": {},
   "outputs": [],
   "source": []
  },
  {
   "cell_type": "code",
   "execution_count": null,
   "id": "281665c4-534d-468c-962a-eb77a42ed9cc",
   "metadata": {},
   "outputs": [],
   "source": []
  },
  {
   "cell_type": "code",
   "execution_count": null,
   "id": "0927ee58-ccb2-408e-a44d-dc2064cfa9c0",
   "metadata": {},
   "outputs": [],
   "source": []
  }
 ],
 "metadata": {
  "kernelspec": {
   "display_name": "Python 3 (ipykernel)",
   "language": "python",
   "name": "python3"
  },
  "language_info": {
   "codemirror_mode": {
    "name": "ipython",
    "version": 3
   },
   "file_extension": ".py",
   "mimetype": "text/x-python",
   "name": "python",
   "nbconvert_exporter": "python",
   "pygments_lexer": "ipython3",
   "version": "3.9.7"
  }
 },
 "nbformat": 4,
 "nbformat_minor": 5
}
