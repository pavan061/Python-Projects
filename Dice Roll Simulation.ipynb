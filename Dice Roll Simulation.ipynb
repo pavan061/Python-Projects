{
 "cells": [
  {
   "cell_type": "markdown",
   "id": "c0b246cf",
   "metadata": {},
   "source": [
    "<h1><p style=\"text-align:center\">Rolling Dice Simulator</p><h1>"
   ]
  },
  {
   "cell_type": "markdown",
   "id": "5ff35aba",
   "metadata": {},
   "source": [
    "<h3>The smallest value of a dice roll is 1 and the largest is 6, this logic can be used to simulate a dice roll. This gives us the start and end values to use in our random.randint() function. Now let’s see how to simulate a dice roll with Python:</h3>"
   ]
  },
  {
   "cell_type": "code",
   "execution_count": 27,
   "id": "0642eee0",
   "metadata": {
    "collapsed": true
   },
   "outputs": [
    {
     "name": "stdout",
     "output_type": "stream",
     "text": [
      "Rolling The Dices...\n",
      "The Values are :\n",
      "4\n",
      "5\n",
      "Roll the Dices Again?yes\n",
      "Rolling The Dices...\n",
      "The Values are :\n",
      "5\n",
      "4\n",
      "Roll the Dices Again?yes\n",
      "Rolling The Dices...\n",
      "The Values are :\n",
      "3\n",
      "2\n",
      "Roll the Dices Again?yes\n",
      "Rolling The Dices...\n",
      "The Values are :\n",
      "5\n",
      "1\n",
      "Roll the Dices Again?no\n"
     ]
    }
   ],
   "source": [
    "#importing module for random number generation\n",
    "import random\n",
    "\n",
    "#range of the values of a dice\n",
    "min_val = 1\n",
    "max_val = 6\n",
    "\n",
    "#to loop the rolling through user input\n",
    "roll_again = \"yes\"\n",
    "\n",
    "#loop\n",
    "while roll_again == \"yes\" or roll_again == \"y\":\n",
    "    print(\"Rolling The Dices...\")\n",
    "    print(\"The Values are :\")\n",
    "    \n",
    "    #generating and printing 1st random integer from 1 to 6\n",
    "    print(random.randint(min_val, max_val))\n",
    "    \n",
    "    #generating and printing 2nd random integer from 1 to 6\n",
    "    print(random.randint(min_val, max_val))\n",
    "    \n",
    "    #asking user to roll the dice again. Any input other than yes or y will terminate the loop\n",
    "    roll_again = input(\"Roll the Dices Again?\") "
   ]
  },
  {
   "cell_type": "code",
   "execution_count": null,
   "id": "a3786559",
   "metadata": {},
   "outputs": [],
   "source": []
  }
 ],
 "metadata": {
  "kernelspec": {
   "display_name": "Python 3 (ipykernel)",
   "language": "python",
   "name": "python3"
  },
  "language_info": {
   "codemirror_mode": {
    "name": "ipython",
    "version": 3
   },
   "file_extension": ".py",
   "mimetype": "text/x-python",
   "name": "python",
   "nbconvert_exporter": "python",
   "pygments_lexer": "ipython3",
   "version": "3.9.7"
  }
 },
 "nbformat": 4,
 "nbformat_minor": 5
}
