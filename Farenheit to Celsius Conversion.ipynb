{
 "cells": [
  {
   "cell_type": "markdown",
   "id": "fc61b137-237e-4b0b-9ff6-fda7706703b7",
   "metadata": {},
   "source": [
    "<h1><p style=\"text-align:center\">Farenheit to Clesius Conversion</p></h1>"
   ]
  },
  {
   "cell_type": "markdown",
   "id": "4bd7f67d-7bd6-4a36-accd-e570f824089c",
   "metadata": {
    "tags": []
   },
   "source": [
    "<h3>This code converts temperature from farenheit to celsius</h3>"
   ]
  },
  {
   "cell_type": "code",
   "execution_count": 6,
   "id": "09c5f96d-730d-447e-b1d7-4578ae8c4d75",
   "metadata": {
    "tags": []
   },
   "outputs": [
    {
     "name": "stdout",
     "output_type": "stream",
     "text": [
      "The temperature in celsius is :32.77777777777778\n"
     ]
    }
   ],
   "source": [
    "def convert_faren_clesius(f):\n",
    "    c = ((f-32)*5)/9\n",
    "    print(f\"The temperature in celsius is :{c}\")\n",
    "convert_faren_clesius(91)\n",
    "    "
   ]
  },
  {
   "cell_type": "code",
   "execution_count": null,
   "id": "8eceea1d-4d0a-4848-8201-99962de4e9bc",
   "metadata": {
    "tags": []
   },
   "outputs": [],
   "source": []
  }
 ],
 "metadata": {
  "kernelspec": {
   "display_name": "Python 3 (ipykernel)",
   "language": "python",
   "name": "python3"
  },
  "language_info": {
   "codemirror_mode": {
    "name": "ipython",
    "version": 3
   },
   "file_extension": ".py",
   "mimetype": "text/x-python",
   "name": "python",
   "nbconvert_exporter": "python",
   "pygments_lexer": "ipython3",
   "version": "3.9.7"
  }
 },
 "nbformat": 4,
 "nbformat_minor": 5
}
